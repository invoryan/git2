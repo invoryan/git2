{
  "nbformat": 4,
  "nbformat_minor": 0,
  "metadata": {
    "colab": {
      "name": "Copia de 1er Examen Computacion en la nube.ipynb",
      "provenance": [],
      "authorship_tag": "ABX9TyOEVF1KV3LLnlxYAWrSEZva",
      "include_colab_link": true
    },
    "kernelspec": {
      "name": "python3",
      "display_name": "Python 3"
    },
    "language_info": {
      "name": "python"
    }
  },
  "cells": [
    {
      "cell_type": "markdown",
      "metadata": {
        "id": "view-in-github",
        "colab_type": "text"
      },
      "source": [
        "<a href=\"https://colab.research.google.com/github/invoryan/git2/blob/main/Copia_de_1er_Examen_Computacion_en_la_nube.ipynb\" target=\"_parent\"><img src=\"https://colab.research.google.com/assets/colab-badge.svg\" alt=\"Open In Colab\"/></a>"
      ]
    },
    {
      "cell_type": "code",
      "execution_count": null,
      "metadata": {
        "colab": {
          "base_uri": "https://localhost:8080/",
          "height": 206
        },
        "id": "ESP0VEhF-PDT",
        "outputId": "59a0845b-7d6a-48f8-86ce-ce7b4c02142c"
      },
      "outputs": [
        {
          "output_type": "execute_result",
          "data": {
            "text/plain": [
              "   Id  SepalLengthCm  SepalWidthCm  PetalLengthCm  PetalWidthCm      Species\n",
              "0   1            5.1           3.5            1.4           0.2  Iris-setosa\n",
              "1   2            4.9           3.0            1.4           0.2  Iris-setosa\n",
              "2   3            4.7           3.2            1.3           0.2  Iris-setosa\n",
              "3   4            4.6           3.1            1.5           0.2  Iris-setosa\n",
              "4   5            5.0           3.6            1.4           0.2  Iris-setosa"
            ],
            "text/html": [
              "\n",
              "  <div id=\"df-3798eec4-a26f-4520-b2c7-94a0f86ea9d1\">\n",
              "    <div class=\"colab-df-container\">\n",
              "      <div>\n",
              "<style scoped>\n",
              "    .dataframe tbody tr th:only-of-type {\n",
              "        vertical-align: middle;\n",
              "    }\n",
              "\n",
              "    .dataframe tbody tr th {\n",
              "        vertical-align: top;\n",
              "    }\n",
              "\n",
              "    .dataframe thead th {\n",
              "        text-align: right;\n",
              "    }\n",
              "</style>\n",
              "<table border=\"1\" class=\"dataframe\">\n",
              "  <thead>\n",
              "    <tr style=\"text-align: right;\">\n",
              "      <th></th>\n",
              "      <th>Id</th>\n",
              "      <th>SepalLengthCm</th>\n",
              "      <th>SepalWidthCm</th>\n",
              "      <th>PetalLengthCm</th>\n",
              "      <th>PetalWidthCm</th>\n",
              "      <th>Species</th>\n",
              "    </tr>\n",
              "  </thead>\n",
              "  <tbody>\n",
              "    <tr>\n",
              "      <th>0</th>\n",
              "      <td>1</td>\n",
              "      <td>5.1</td>\n",
              "      <td>3.5</td>\n",
              "      <td>1.4</td>\n",
              "      <td>0.2</td>\n",
              "      <td>Iris-setosa</td>\n",
              "    </tr>\n",
              "    <tr>\n",
              "      <th>1</th>\n",
              "      <td>2</td>\n",
              "      <td>4.9</td>\n",
              "      <td>3.0</td>\n",
              "      <td>1.4</td>\n",
              "      <td>0.2</td>\n",
              "      <td>Iris-setosa</td>\n",
              "    </tr>\n",
              "    <tr>\n",
              "      <th>2</th>\n",
              "      <td>3</td>\n",
              "      <td>4.7</td>\n",
              "      <td>3.2</td>\n",
              "      <td>1.3</td>\n",
              "      <td>0.2</td>\n",
              "      <td>Iris-setosa</td>\n",
              "    </tr>\n",
              "    <tr>\n",
              "      <th>3</th>\n",
              "      <td>4</td>\n",
              "      <td>4.6</td>\n",
              "      <td>3.1</td>\n",
              "      <td>1.5</td>\n",
              "      <td>0.2</td>\n",
              "      <td>Iris-setosa</td>\n",
              "    </tr>\n",
              "    <tr>\n",
              "      <th>4</th>\n",
              "      <td>5</td>\n",
              "      <td>5.0</td>\n",
              "      <td>3.6</td>\n",
              "      <td>1.4</td>\n",
              "      <td>0.2</td>\n",
              "      <td>Iris-setosa</td>\n",
              "    </tr>\n",
              "  </tbody>\n",
              "</table>\n",
              "</div>\n",
              "      <button class=\"colab-df-convert\" onclick=\"convertToInteractive('df-3798eec4-a26f-4520-b2c7-94a0f86ea9d1')\"\n",
              "              title=\"Convert this dataframe to an interactive table.\"\n",
              "              style=\"display:none;\">\n",
              "        \n",
              "  <svg xmlns=\"http://www.w3.org/2000/svg\" height=\"24px\"viewBox=\"0 0 24 24\"\n",
              "       width=\"24px\">\n",
              "    <path d=\"M0 0h24v24H0V0z\" fill=\"none\"/>\n",
              "    <path d=\"M18.56 5.44l.94 2.06.94-2.06 2.06-.94-2.06-.94-.94-2.06-.94 2.06-2.06.94zm-11 1L8.5 8.5l.94-2.06 2.06-.94-2.06-.94L8.5 2.5l-.94 2.06-2.06.94zm10 10l.94 2.06.94-2.06 2.06-.94-2.06-.94-.94-2.06-.94 2.06-2.06.94z\"/><path d=\"M17.41 7.96l-1.37-1.37c-.4-.4-.92-.59-1.43-.59-.52 0-1.04.2-1.43.59L10.3 9.45l-7.72 7.72c-.78.78-.78 2.05 0 2.83L4 21.41c.39.39.9.59 1.41.59.51 0 1.02-.2 1.41-.59l7.78-7.78 2.81-2.81c.8-.78.8-2.07 0-2.86zM5.41 20L4 18.59l7.72-7.72 1.47 1.35L5.41 20z\"/>\n",
              "  </svg>\n",
              "      </button>\n",
              "      \n",
              "  <style>\n",
              "    .colab-df-container {\n",
              "      display:flex;\n",
              "      flex-wrap:wrap;\n",
              "      gap: 12px;\n",
              "    }\n",
              "\n",
              "    .colab-df-convert {\n",
              "      background-color: #E8F0FE;\n",
              "      border: none;\n",
              "      border-radius: 50%;\n",
              "      cursor: pointer;\n",
              "      display: none;\n",
              "      fill: #1967D2;\n",
              "      height: 32px;\n",
              "      padding: 0 0 0 0;\n",
              "      width: 32px;\n",
              "    }\n",
              "\n",
              "    .colab-df-convert:hover {\n",
              "      background-color: #E2EBFA;\n",
              "      box-shadow: 0px 1px 2px rgba(60, 64, 67, 0.3), 0px 1px 3px 1px rgba(60, 64, 67, 0.15);\n",
              "      fill: #174EA6;\n",
              "    }\n",
              "\n",
              "    [theme=dark] .colab-df-convert {\n",
              "      background-color: #3B4455;\n",
              "      fill: #D2E3FC;\n",
              "    }\n",
              "\n",
              "    [theme=dark] .colab-df-convert:hover {\n",
              "      background-color: #434B5C;\n",
              "      box-shadow: 0px 1px 3px 1px rgba(0, 0, 0, 0.15);\n",
              "      filter: drop-shadow(0px 1px 2px rgba(0, 0, 0, 0.3));\n",
              "      fill: #FFFFFF;\n",
              "    }\n",
              "  </style>\n",
              "\n",
              "      <script>\n",
              "        const buttonEl =\n",
              "          document.querySelector('#df-3798eec4-a26f-4520-b2c7-94a0f86ea9d1 button.colab-df-convert');\n",
              "        buttonEl.style.display =\n",
              "          google.colab.kernel.accessAllowed ? 'block' : 'none';\n",
              "\n",
              "        async function convertToInteractive(key) {\n",
              "          const element = document.querySelector('#df-3798eec4-a26f-4520-b2c7-94a0f86ea9d1');\n",
              "          const dataTable =\n",
              "            await google.colab.kernel.invokeFunction('convertToInteractive',\n",
              "                                                     [key], {});\n",
              "          if (!dataTable) return;\n",
              "\n",
              "          const docLinkHtml = 'Like what you see? Visit the ' +\n",
              "            '<a target=\"_blank\" href=https://colab.research.google.com/notebooks/data_table.ipynb>data table notebook</a>'\n",
              "            + ' to learn more about interactive tables.';\n",
              "          element.innerHTML = '';\n",
              "          dataTable['output_type'] = 'display_data';\n",
              "          await google.colab.output.renderOutput(dataTable, element);\n",
              "          const docLink = document.createElement('div');\n",
              "          docLink.innerHTML = docLinkHtml;\n",
              "          element.appendChild(docLink);\n",
              "        }\n",
              "      </script>\n",
              "    </div>\n",
              "  </div>\n",
              "  "
            ]
          },
          "metadata": {},
          "execution_count": 62
        }
      ],
      "source": [
        "import pandas as pd\n",
        "bdIris=pd.read_csv('Iris.csv')\n",
        "bdIris.head()"
      ]
    },
    {
      "cell_type": "markdown",
      "source": [
        "#Limpiaremos los datos que necesitaremos"
      ],
      "metadata": {
        "id": "YVOFsfRx_3gP"
      }
    },
    {
      "cell_type": "markdown",
      "source": [
        "Teniendo la base de datos Iris 'bdIris' buscamos que columnas nos servira, en este caso que tipo de especies es de acuerdo a sus caracteristicas en sepal y petal para ello usaremos SepalLengthCm, SepalWidthCm, PetalLengthCm, PetalWidthCm, Species"
      ],
      "metadata": {
        "id": "TsIPAq6PAVf4"
      }
    },
    {
      "cell_type": "markdown",
      "source": [
        "Vemos si las columnas que usaremos tienen datos vacios para luego rellenarlos"
      ],
      "metadata": {
        "id": "C-Lb4E_tBPC8"
      }
    },
    {
      "cell_type": "code",
      "source": [
        "bdIris.isna().sum()"
      ],
      "metadata": {
        "colab": {
          "base_uri": "https://localhost:8080/"
        },
        "id": "_4djFJbo_6Wk",
        "outputId": "606e7dfe-47af-421f-f0d1-187a8364a558"
      },
      "execution_count": null,
      "outputs": [
        {
          "output_type": "execute_result",
          "data": {
            "text/plain": [
              "Id               0\n",
              "SepalLengthCm    0\n",
              "SepalWidthCm     0\n",
              "PetalLengthCm    0\n",
              "PetalWidthCm     0\n",
              "Species          0\n",
              "dtype: int64"
            ]
          },
          "metadata": {},
          "execution_count": 63
        }
      ]
    },
    {
      "cell_type": "markdown",
      "source": [
        "Como solo nos serviran 5 columnas solo usaremos esas 5"
      ],
      "metadata": {
        "id": "3HwBlJbGBrI1"
      }
    },
    {
      "cell_type": "code",
      "source": [
        "bdIris=bdIris[['SepalLengthCm','SepalWidthCm','PetalLengthCm','PetalWidthCm','Species']]# Aqui toma las columnas que me sirven para le problema\n",
        "bdIris=bdIris.dropna() # Este elimina las filas que tengan algun dato vacio\n",
        "bdIris=bdIris.drop_duplicates() #Este elimina las filas que tengan algun duplicado\n",
        "bdIris.isna().sum()"
      ],
      "metadata": {
        "colab": {
          "base_uri": "https://localhost:8080/"
        },
        "id": "JxAPv5vhBzpa",
        "outputId": "f96eccdc-4c32-486e-ec59-664901d67099"
      },
      "execution_count": null,
      "outputs": [
        {
          "output_type": "execute_result",
          "data": {
            "text/plain": [
              "SepalLengthCm    0\n",
              "SepalWidthCm     0\n",
              "PetalLengthCm    0\n",
              "PetalWidthCm     0\n",
              "Species          0\n",
              "dtype: int64"
            ]
          },
          "metadata": {},
          "execution_count": 64
        }
      ]
    },
    {
      "cell_type": "markdown",
      "source": [
        "Dividimos las columnas \n",
        "1.   y: Species -> ya que la pregunta gira entorno a esto\n",
        "2.   x: SepalLengthCm, SepalWidthCm, PetalLengthCm, PetalWidthCm"
      ],
      "metadata": {
        "id": "tiuJeyl7CNbz"
      }
    },
    {
      "cell_type": "code",
      "source": [
        "IrisX=bdIris[['SepalLengthCm','SepalWidthCm','PetalLengthCm','PetalWidthCm']]\n",
        "IrisY=bdIris[['Species']]\n",
        "print(IrisY.head(),\"\\n\", IrisX.head())"
      ],
      "metadata": {
        "colab": {
          "base_uri": "https://localhost:8080/"
        },
        "id": "k03PHBEUCXqD",
        "outputId": "214ad3ac-9212-4c84-9c99-838f69a11221"
      },
      "execution_count": null,
      "outputs": [
        {
          "output_type": "stream",
          "name": "stdout",
          "text": [
            "       Species\n",
            "0  Iris-setosa\n",
            "1  Iris-setosa\n",
            "2  Iris-setosa\n",
            "3  Iris-setosa\n",
            "4  Iris-setosa \n",
            "    SepalLengthCm  SepalWidthCm  PetalLengthCm  PetalWidthCm\n",
            "0            5.1           3.5            1.4           0.2\n",
            "1            4.9           3.0            1.4           0.2\n",
            "2            4.7           3.2            1.3           0.2\n",
            "3            4.6           3.1            1.5           0.2\n",
            "4            5.0           3.6            1.4           0.2\n"
          ]
        }
      ]
    },
    {
      "cell_type": "markdown",
      "source": [
        "Ya que tenemos las columnas divididas convertiremos todos los datos de cada columna en un id "
      ],
      "metadata": {
        "id": "sktI7Ux-DG5B"
      }
    },
    {
      "cell_type": "code",
      "source": [
        "IrisX['SepalLengthCm']=pd.cut(IrisX['SepalLengthCm'],[4,4.5,5,5.5,6,6.5,7,7.5,8])"
      ],
      "metadata": {
        "colab": {
          "base_uri": "https://localhost:8080/"
        },
        "id": "ClN7maE_DEDO",
        "outputId": "1c26837f-bbeb-4d52-d0a7-03977f97ef63"
      },
      "execution_count": null,
      "outputs": [
        {
          "output_type": "stream",
          "name": "stderr",
          "text": [
            "/usr/local/lib/python3.7/dist-packages/ipykernel_launcher.py:1: SettingWithCopyWarning: \n",
            "A value is trying to be set on a copy of a slice from a DataFrame.\n",
            "Try using .loc[row_indexer,col_indexer] = value instead\n",
            "\n",
            "See the caveats in the documentation: https://pandas.pydata.org/pandas-docs/stable/user_guide/indexing.html#returning-a-view-versus-a-copy\n",
            "  \"\"\"Entry point for launching an IPython kernel.\n"
          ]
        }
      ]
    },
    {
      "cell_type": "code",
      "source": [
        "IrisX['SepalWidthCm']=pd.cut(IrisX['SepalWidthCm'],[2,2.5,3,3.5,4,4.5])"
      ],
      "metadata": {
        "colab": {
          "base_uri": "https://localhost:8080/"
        },
        "id": "Ma78qu_AHp1t",
        "outputId": "f1c99918-7f10-4a6c-8fb5-4c31cdaf0039"
      },
      "execution_count": null,
      "outputs": [
        {
          "output_type": "stream",
          "name": "stderr",
          "text": [
            "/usr/local/lib/python3.7/dist-packages/ipykernel_launcher.py:1: SettingWithCopyWarning: \n",
            "A value is trying to be set on a copy of a slice from a DataFrame.\n",
            "Try using .loc[row_indexer,col_indexer] = value instead\n",
            "\n",
            "See the caveats in the documentation: https://pandas.pydata.org/pandas-docs/stable/user_guide/indexing.html#returning-a-view-versus-a-copy\n",
            "  \"\"\"Entry point for launching an IPython kernel.\n"
          ]
        }
      ]
    },
    {
      "cell_type": "code",
      "source": [
        "IrisX['PetalLengthCm']=pd.cut(IrisX['PetalLengthCm'],[1,1.5,2,2.5,3,3.5,4,4.5,5,5.5,6,6.5,7])"
      ],
      "metadata": {
        "colab": {
          "base_uri": "https://localhost:8080/"
        },
        "id": "GAqo2YLwIDva",
        "outputId": "d9c6f557-33e5-42b9-94ab-e705c3b8a9dd"
      },
      "execution_count": null,
      "outputs": [
        {
          "output_type": "stream",
          "name": "stderr",
          "text": [
            "/usr/local/lib/python3.7/dist-packages/ipykernel_launcher.py:1: SettingWithCopyWarning: \n",
            "A value is trying to be set on a copy of a slice from a DataFrame.\n",
            "Try using .loc[row_indexer,col_indexer] = value instead\n",
            "\n",
            "See the caveats in the documentation: https://pandas.pydata.org/pandas-docs/stable/user_guide/indexing.html#returning-a-view-versus-a-copy\n",
            "  \"\"\"Entry point for launching an IPython kernel.\n"
          ]
        }
      ]
    },
    {
      "cell_type": "code",
      "source": [
        "IrisX['PetalWidthCm']=pd.cut(IrisX['PetalWidthCm'],[0,0.2,0.4,0.6,0.8,1,1.2,1.4,1.6,1.8,2.0,2.2,2.4,2.6])"
      ],
      "metadata": {
        "colab": {
          "base_uri": "https://localhost:8080/"
        },
        "id": "QK30_YfzIRmk",
        "outputId": "2c183498-043c-42d3-8db2-615a8401f85b"
      },
      "execution_count": null,
      "outputs": [
        {
          "output_type": "stream",
          "name": "stderr",
          "text": [
            "/usr/local/lib/python3.7/dist-packages/ipykernel_launcher.py:1: SettingWithCopyWarning: \n",
            "A value is trying to be set on a copy of a slice from a DataFrame.\n",
            "Try using .loc[row_indexer,col_indexer] = value instead\n",
            "\n",
            "See the caveats in the documentation: https://pandas.pydata.org/pandas-docs/stable/user_guide/indexing.html#returning-a-view-versus-a-copy\n",
            "  \"\"\"Entry point for launching an IPython kernel.\n"
          ]
        }
      ]
    },
    {
      "cell_type": "code",
      "source": [
        "IrisX.head()"
      ],
      "metadata": {
        "colab": {
          "base_uri": "https://localhost:8080/",
          "height": 206
        },
        "id": "Du8ilTG4HB-7",
        "outputId": "c5fdc0f7-16f0-4f96-d354-6e878ec1ceae"
      },
      "execution_count": null,
      "outputs": [
        {
          "output_type": "execute_result",
          "data": {
            "text/plain": [
              "  SepalLengthCm SepalWidthCm PetalLengthCm PetalWidthCm\n",
              "0    (5.0, 5.5]   (3.0, 3.5]    (1.0, 1.5]   (0.0, 0.2]\n",
              "1    (4.5, 5.0]   (2.5, 3.0]    (1.0, 1.5]   (0.0, 0.2]\n",
              "2    (4.5, 5.0]   (3.0, 3.5]    (1.0, 1.5]   (0.0, 0.2]\n",
              "3    (4.5, 5.0]   (3.0, 3.5]    (1.0, 1.5]   (0.0, 0.2]\n",
              "4    (4.5, 5.0]   (3.5, 4.0]    (1.0, 1.5]   (0.0, 0.2]"
            ],
            "text/html": [
              "\n",
              "  <div id=\"df-fb506581-110a-4581-ac45-980b89526679\">\n",
              "    <div class=\"colab-df-container\">\n",
              "      <div>\n",
              "<style scoped>\n",
              "    .dataframe tbody tr th:only-of-type {\n",
              "        vertical-align: middle;\n",
              "    }\n",
              "\n",
              "    .dataframe tbody tr th {\n",
              "        vertical-align: top;\n",
              "    }\n",
              "\n",
              "    .dataframe thead th {\n",
              "        text-align: right;\n",
              "    }\n",
              "</style>\n",
              "<table border=\"1\" class=\"dataframe\">\n",
              "  <thead>\n",
              "    <tr style=\"text-align: right;\">\n",
              "      <th></th>\n",
              "      <th>SepalLengthCm</th>\n",
              "      <th>SepalWidthCm</th>\n",
              "      <th>PetalLengthCm</th>\n",
              "      <th>PetalWidthCm</th>\n",
              "    </tr>\n",
              "  </thead>\n",
              "  <tbody>\n",
              "    <tr>\n",
              "      <th>0</th>\n",
              "      <td>(5.0, 5.5]</td>\n",
              "      <td>(3.0, 3.5]</td>\n",
              "      <td>(1.0, 1.5]</td>\n",
              "      <td>(0.0, 0.2]</td>\n",
              "    </tr>\n",
              "    <tr>\n",
              "      <th>1</th>\n",
              "      <td>(4.5, 5.0]</td>\n",
              "      <td>(2.5, 3.0]</td>\n",
              "      <td>(1.0, 1.5]</td>\n",
              "      <td>(0.0, 0.2]</td>\n",
              "    </tr>\n",
              "    <tr>\n",
              "      <th>2</th>\n",
              "      <td>(4.5, 5.0]</td>\n",
              "      <td>(3.0, 3.5]</td>\n",
              "      <td>(1.0, 1.5]</td>\n",
              "      <td>(0.0, 0.2]</td>\n",
              "    </tr>\n",
              "    <tr>\n",
              "      <th>3</th>\n",
              "      <td>(4.5, 5.0]</td>\n",
              "      <td>(3.0, 3.5]</td>\n",
              "      <td>(1.0, 1.5]</td>\n",
              "      <td>(0.0, 0.2]</td>\n",
              "    </tr>\n",
              "    <tr>\n",
              "      <th>4</th>\n",
              "      <td>(4.5, 5.0]</td>\n",
              "      <td>(3.5, 4.0]</td>\n",
              "      <td>(1.0, 1.5]</td>\n",
              "      <td>(0.0, 0.2]</td>\n",
              "    </tr>\n",
              "  </tbody>\n",
              "</table>\n",
              "</div>\n",
              "      <button class=\"colab-df-convert\" onclick=\"convertToInteractive('df-fb506581-110a-4581-ac45-980b89526679')\"\n",
              "              title=\"Convert this dataframe to an interactive table.\"\n",
              "              style=\"display:none;\">\n",
              "        \n",
              "  <svg xmlns=\"http://www.w3.org/2000/svg\" height=\"24px\"viewBox=\"0 0 24 24\"\n",
              "       width=\"24px\">\n",
              "    <path d=\"M0 0h24v24H0V0z\" fill=\"none\"/>\n",
              "    <path d=\"M18.56 5.44l.94 2.06.94-2.06 2.06-.94-2.06-.94-.94-2.06-.94 2.06-2.06.94zm-11 1L8.5 8.5l.94-2.06 2.06-.94-2.06-.94L8.5 2.5l-.94 2.06-2.06.94zm10 10l.94 2.06.94-2.06 2.06-.94-2.06-.94-.94-2.06-.94 2.06-2.06.94z\"/><path d=\"M17.41 7.96l-1.37-1.37c-.4-.4-.92-.59-1.43-.59-.52 0-1.04.2-1.43.59L10.3 9.45l-7.72 7.72c-.78.78-.78 2.05 0 2.83L4 21.41c.39.39.9.59 1.41.59.51 0 1.02-.2 1.41-.59l7.78-7.78 2.81-2.81c.8-.78.8-2.07 0-2.86zM5.41 20L4 18.59l7.72-7.72 1.47 1.35L5.41 20z\"/>\n",
              "  </svg>\n",
              "      </button>\n",
              "      \n",
              "  <style>\n",
              "    .colab-df-container {\n",
              "      display:flex;\n",
              "      flex-wrap:wrap;\n",
              "      gap: 12px;\n",
              "    }\n",
              "\n",
              "    .colab-df-convert {\n",
              "      background-color: #E8F0FE;\n",
              "      border: none;\n",
              "      border-radius: 50%;\n",
              "      cursor: pointer;\n",
              "      display: none;\n",
              "      fill: #1967D2;\n",
              "      height: 32px;\n",
              "      padding: 0 0 0 0;\n",
              "      width: 32px;\n",
              "    }\n",
              "\n",
              "    .colab-df-convert:hover {\n",
              "      background-color: #E2EBFA;\n",
              "      box-shadow: 0px 1px 2px rgba(60, 64, 67, 0.3), 0px 1px 3px 1px rgba(60, 64, 67, 0.15);\n",
              "      fill: #174EA6;\n",
              "    }\n",
              "\n",
              "    [theme=dark] .colab-df-convert {\n",
              "      background-color: #3B4455;\n",
              "      fill: #D2E3FC;\n",
              "    }\n",
              "\n",
              "    [theme=dark] .colab-df-convert:hover {\n",
              "      background-color: #434B5C;\n",
              "      box-shadow: 0px 1px 3px 1px rgba(0, 0, 0, 0.15);\n",
              "      filter: drop-shadow(0px 1px 2px rgba(0, 0, 0, 0.3));\n",
              "      fill: #FFFFFF;\n",
              "    }\n",
              "  </style>\n",
              "\n",
              "      <script>\n",
              "        const buttonEl =\n",
              "          document.querySelector('#df-fb506581-110a-4581-ac45-980b89526679 button.colab-df-convert');\n",
              "        buttonEl.style.display =\n",
              "          google.colab.kernel.accessAllowed ? 'block' : 'none';\n",
              "\n",
              "        async function convertToInteractive(key) {\n",
              "          const element = document.querySelector('#df-fb506581-110a-4581-ac45-980b89526679');\n",
              "          const dataTable =\n",
              "            await google.colab.kernel.invokeFunction('convertToInteractive',\n",
              "                                                     [key], {});\n",
              "          if (!dataTable) return;\n",
              "\n",
              "          const docLinkHtml = 'Like what you see? Visit the ' +\n",
              "            '<a target=\"_blank\" href=https://colab.research.google.com/notebooks/data_table.ipynb>data table notebook</a>'\n",
              "            + ' to learn more about interactive tables.';\n",
              "          element.innerHTML = '';\n",
              "          dataTable['output_type'] = 'display_data';\n",
              "          await google.colab.output.renderOutput(dataTable, element);\n",
              "          const docLink = document.createElement('div');\n",
              "          docLink.innerHTML = docLinkHtml;\n",
              "          element.appendChild(docLink);\n",
              "        }\n",
              "      </script>\n",
              "    </div>\n",
              "  </div>\n",
              "  "
            ]
          },
          "metadata": {},
          "execution_count": 70
        }
      ]
    },
    {
      "cell_type": "code",
      "source": [
        "IrisX.duplicated(keep=False)#devuelve los duplicados al ejecutar sale un length devuelve cantidad de valores repetidos"
      ],
      "metadata": {
        "colab": {
          "base_uri": "https://localhost:8080/"
        },
        "id": "ZmEL3NlyJYyk",
        "outputId": "d241171d-8d1c-45aa-a87b-696338bd40de"
      },
      "execution_count": null,
      "outputs": [
        {
          "output_type": "execute_result",
          "data": {
            "text/plain": [
              "0       True\n",
              "1       True\n",
              "2       True\n",
              "3       True\n",
              "4      False\n",
              "       ...  \n",
              "145    False\n",
              "146    False\n",
              "147     True\n",
              "148     True\n",
              "149    False\n",
              "Length: 147, dtype: bool"
            ]
          },
          "metadata": {},
          "execution_count": 71
        }
      ]
    },
    {
      "cell_type": "markdown",
      "source": [
        "ahora que tenemos los datos clasificados en intervalos lo reduciremos mas hasta q sean numeros"
      ],
      "metadata": {
        "id": "wnV1F8ZjJX-m"
      }
    },
    {
      "cell_type": "code",
      "source": [
        "from pandas.core.arrays import categorical\n",
        "IrisX.loc[:,'SepalLengthCm'],categoriaSepalLengthCm=pd.factorize(IrisX['SepalLengthCm'],sort=True)"
      ],
      "metadata": {
        "colab": {
          "base_uri": "https://localhost:8080/"
        },
        "id": "HQhJ6L7HJpFd",
        "outputId": "993c584a-4897-40fc-de26-dcfd77ba6804"
      },
      "execution_count": null,
      "outputs": [
        {
          "output_type": "stream",
          "name": "stderr",
          "text": [
            "/usr/local/lib/python3.7/dist-packages/pandas/core/indexing.py:1773: SettingWithCopyWarning: \n",
            "A value is trying to be set on a copy of a slice from a DataFrame.\n",
            "Try using .loc[row_indexer,col_indexer] = value instead\n",
            "\n",
            "See the caveats in the documentation: https://pandas.pydata.org/pandas-docs/stable/user_guide/indexing.html#returning-a-view-versus-a-copy\n",
            "  self._setitem_single_column(ilocs[0], value, pi)\n"
          ]
        }
      ]
    },
    {
      "cell_type": "code",
      "source": [
        "IrisX.loc[:,'SepalWidthCm'],categoriaSepalWidthCm=pd.factorize(IrisX['SepalWidthCm'],sort=True)"
      ],
      "metadata": {
        "colab": {
          "base_uri": "https://localhost:8080/"
        },
        "id": "cZO6_RNEKfS8",
        "outputId": "6714df49-5fcb-43cc-839d-d39740b4b9ae"
      },
      "execution_count": null,
      "outputs": [
        {
          "output_type": "stream",
          "name": "stderr",
          "text": [
            "/usr/local/lib/python3.7/dist-packages/pandas/core/indexing.py:1773: SettingWithCopyWarning: \n",
            "A value is trying to be set on a copy of a slice from a DataFrame.\n",
            "Try using .loc[row_indexer,col_indexer] = value instead\n",
            "\n",
            "See the caveats in the documentation: https://pandas.pydata.org/pandas-docs/stable/user_guide/indexing.html#returning-a-view-versus-a-copy\n",
            "  self._setitem_single_column(ilocs[0], value, pi)\n"
          ]
        }
      ]
    },
    {
      "cell_type": "code",
      "source": [
        "IrisX.loc[:,'PetalLengthCm'],categoriaPetalLengthCm=pd.factorize(IrisX['PetalLengthCm'],sort=True)"
      ],
      "metadata": {
        "colab": {
          "base_uri": "https://localhost:8080/"
        },
        "id": "Z4tpVrWYK5Ef",
        "outputId": "f4a0c378-511b-49e0-e20b-7648defdc21f"
      },
      "execution_count": null,
      "outputs": [
        {
          "output_type": "stream",
          "name": "stderr",
          "text": [
            "/usr/local/lib/python3.7/dist-packages/pandas/core/indexing.py:1773: SettingWithCopyWarning: \n",
            "A value is trying to be set on a copy of a slice from a DataFrame.\n",
            "Try using .loc[row_indexer,col_indexer] = value instead\n",
            "\n",
            "See the caveats in the documentation: https://pandas.pydata.org/pandas-docs/stable/user_guide/indexing.html#returning-a-view-versus-a-copy\n",
            "  self._setitem_single_column(ilocs[0], value, pi)\n"
          ]
        }
      ]
    },
    {
      "cell_type": "code",
      "source": [
        "IrisX.loc[:,'PetalWidthCm'],categoriaPetalWidthCm=pd.factorize(IrisX['PetalWidthCm'],sort=True)"
      ],
      "metadata": {
        "colab": {
          "base_uri": "https://localhost:8080/"
        },
        "id": "B_vgoPFCK-pC",
        "outputId": "2b8a14ab-f18f-4120-cade-0555c965ce8e"
      },
      "execution_count": null,
      "outputs": [
        {
          "output_type": "stream",
          "name": "stderr",
          "text": [
            "/usr/local/lib/python3.7/dist-packages/pandas/core/indexing.py:1773: SettingWithCopyWarning: \n",
            "A value is trying to be set on a copy of a slice from a DataFrame.\n",
            "Try using .loc[row_indexer,col_indexer] = value instead\n",
            "\n",
            "See the caveats in the documentation: https://pandas.pydata.org/pandas-docs/stable/user_guide/indexing.html#returning-a-view-versus-a-copy\n",
            "  self._setitem_single_column(ilocs[0], value, pi)\n"
          ]
        }
      ]
    },
    {
      "cell_type": "code",
      "source": [
        "IrisY.loc[:,'Species'],categoriaSpecies=pd.factorize(IrisY['Species'],sort=True)"
      ],
      "metadata": {
        "colab": {
          "base_uri": "https://localhost:8080/"
        },
        "id": "HpZEw7s-R2gs",
        "outputId": "380431c0-6306-40cb-c540-2e4856da40b3"
      },
      "execution_count": null,
      "outputs": [
        {
          "output_type": "stream",
          "name": "stderr",
          "text": [
            "/usr/local/lib/python3.7/dist-packages/pandas/core/indexing.py:1951: SettingWithCopyWarning: \n",
            "A value is trying to be set on a copy of a slice from a DataFrame.\n",
            "Try using .loc[row_indexer,col_indexer] = value instead\n",
            "\n",
            "See the caveats in the documentation: https://pandas.pydata.org/pandas-docs/stable/user_guide/indexing.html#returning-a-view-versus-a-copy\n",
            "  self.obj[selected_item_labels] = value\n"
          ]
        }
      ]
    },
    {
      "cell_type": "code",
      "source": [
        "IrisX"
      ],
      "metadata": {
        "colab": {
          "base_uri": "https://localhost:8080/",
          "height": 424
        },
        "id": "gOh-aGkcLGRp",
        "outputId": "6d307d41-b3ca-45b0-d7be-2563e2202b56"
      },
      "execution_count": null,
      "outputs": [
        {
          "output_type": "execute_result",
          "data": {
            "text/plain": [
              "     SepalLengthCm  SepalWidthCm  PetalLengthCm  PetalWidthCm\n",
              "0                2             2              0             0\n",
              "1                1             1              0             0\n",
              "2                1             2              0             0\n",
              "3                1             2              0             0\n",
              "4                1             3              0             0\n",
              "..             ...           ...            ...           ...\n",
              "145              5             1              7            10\n",
              "146              4             0              6             8\n",
              "147              4             1              7             8\n",
              "148              4             2              7            10\n",
              "149              3             1              7             7\n",
              "\n",
              "[147 rows x 4 columns]"
            ],
            "text/html": [
              "\n",
              "  <div id=\"df-0725cc19-e7f1-4328-8d8f-f09a17febdec\">\n",
              "    <div class=\"colab-df-container\">\n",
              "      <div>\n",
              "<style scoped>\n",
              "    .dataframe tbody tr th:only-of-type {\n",
              "        vertical-align: middle;\n",
              "    }\n",
              "\n",
              "    .dataframe tbody tr th {\n",
              "        vertical-align: top;\n",
              "    }\n",
              "\n",
              "    .dataframe thead th {\n",
              "        text-align: right;\n",
              "    }\n",
              "</style>\n",
              "<table border=\"1\" class=\"dataframe\">\n",
              "  <thead>\n",
              "    <tr style=\"text-align: right;\">\n",
              "      <th></th>\n",
              "      <th>SepalLengthCm</th>\n",
              "      <th>SepalWidthCm</th>\n",
              "      <th>PetalLengthCm</th>\n",
              "      <th>PetalWidthCm</th>\n",
              "    </tr>\n",
              "  </thead>\n",
              "  <tbody>\n",
              "    <tr>\n",
              "      <th>0</th>\n",
              "      <td>2</td>\n",
              "      <td>2</td>\n",
              "      <td>0</td>\n",
              "      <td>0</td>\n",
              "    </tr>\n",
              "    <tr>\n",
              "      <th>1</th>\n",
              "      <td>1</td>\n",
              "      <td>1</td>\n",
              "      <td>0</td>\n",
              "      <td>0</td>\n",
              "    </tr>\n",
              "    <tr>\n",
              "      <th>2</th>\n",
              "      <td>1</td>\n",
              "      <td>2</td>\n",
              "      <td>0</td>\n",
              "      <td>0</td>\n",
              "    </tr>\n",
              "    <tr>\n",
              "      <th>3</th>\n",
              "      <td>1</td>\n",
              "      <td>2</td>\n",
              "      <td>0</td>\n",
              "      <td>0</td>\n",
              "    </tr>\n",
              "    <tr>\n",
              "      <th>4</th>\n",
              "      <td>1</td>\n",
              "      <td>3</td>\n",
              "      <td>0</td>\n",
              "      <td>0</td>\n",
              "    </tr>\n",
              "    <tr>\n",
              "      <th>...</th>\n",
              "      <td>...</td>\n",
              "      <td>...</td>\n",
              "      <td>...</td>\n",
              "      <td>...</td>\n",
              "    </tr>\n",
              "    <tr>\n",
              "      <th>145</th>\n",
              "      <td>5</td>\n",
              "      <td>1</td>\n",
              "      <td>7</td>\n",
              "      <td>10</td>\n",
              "    </tr>\n",
              "    <tr>\n",
              "      <th>146</th>\n",
              "      <td>4</td>\n",
              "      <td>0</td>\n",
              "      <td>6</td>\n",
              "      <td>8</td>\n",
              "    </tr>\n",
              "    <tr>\n",
              "      <th>147</th>\n",
              "      <td>4</td>\n",
              "      <td>1</td>\n",
              "      <td>7</td>\n",
              "      <td>8</td>\n",
              "    </tr>\n",
              "    <tr>\n",
              "      <th>148</th>\n",
              "      <td>4</td>\n",
              "      <td>2</td>\n",
              "      <td>7</td>\n",
              "      <td>10</td>\n",
              "    </tr>\n",
              "    <tr>\n",
              "      <th>149</th>\n",
              "      <td>3</td>\n",
              "      <td>1</td>\n",
              "      <td>7</td>\n",
              "      <td>7</td>\n",
              "    </tr>\n",
              "  </tbody>\n",
              "</table>\n",
              "<p>147 rows × 4 columns</p>\n",
              "</div>\n",
              "      <button class=\"colab-df-convert\" onclick=\"convertToInteractive('df-0725cc19-e7f1-4328-8d8f-f09a17febdec')\"\n",
              "              title=\"Convert this dataframe to an interactive table.\"\n",
              "              style=\"display:none;\">\n",
              "        \n",
              "  <svg xmlns=\"http://www.w3.org/2000/svg\" height=\"24px\"viewBox=\"0 0 24 24\"\n",
              "       width=\"24px\">\n",
              "    <path d=\"M0 0h24v24H0V0z\" fill=\"none\"/>\n",
              "    <path d=\"M18.56 5.44l.94 2.06.94-2.06 2.06-.94-2.06-.94-.94-2.06-.94 2.06-2.06.94zm-11 1L8.5 8.5l.94-2.06 2.06-.94-2.06-.94L8.5 2.5l-.94 2.06-2.06.94zm10 10l.94 2.06.94-2.06 2.06-.94-2.06-.94-.94-2.06-.94 2.06-2.06.94z\"/><path d=\"M17.41 7.96l-1.37-1.37c-.4-.4-.92-.59-1.43-.59-.52 0-1.04.2-1.43.59L10.3 9.45l-7.72 7.72c-.78.78-.78 2.05 0 2.83L4 21.41c.39.39.9.59 1.41.59.51 0 1.02-.2 1.41-.59l7.78-7.78 2.81-2.81c.8-.78.8-2.07 0-2.86zM5.41 20L4 18.59l7.72-7.72 1.47 1.35L5.41 20z\"/>\n",
              "  </svg>\n",
              "      </button>\n",
              "      \n",
              "  <style>\n",
              "    .colab-df-container {\n",
              "      display:flex;\n",
              "      flex-wrap:wrap;\n",
              "      gap: 12px;\n",
              "    }\n",
              "\n",
              "    .colab-df-convert {\n",
              "      background-color: #E8F0FE;\n",
              "      border: none;\n",
              "      border-radius: 50%;\n",
              "      cursor: pointer;\n",
              "      display: none;\n",
              "      fill: #1967D2;\n",
              "      height: 32px;\n",
              "      padding: 0 0 0 0;\n",
              "      width: 32px;\n",
              "    }\n",
              "\n",
              "    .colab-df-convert:hover {\n",
              "      background-color: #E2EBFA;\n",
              "      box-shadow: 0px 1px 2px rgba(60, 64, 67, 0.3), 0px 1px 3px 1px rgba(60, 64, 67, 0.15);\n",
              "      fill: #174EA6;\n",
              "    }\n",
              "\n",
              "    [theme=dark] .colab-df-convert {\n",
              "      background-color: #3B4455;\n",
              "      fill: #D2E3FC;\n",
              "    }\n",
              "\n",
              "    [theme=dark] .colab-df-convert:hover {\n",
              "      background-color: #434B5C;\n",
              "      box-shadow: 0px 1px 3px 1px rgba(0, 0, 0, 0.15);\n",
              "      filter: drop-shadow(0px 1px 2px rgba(0, 0, 0, 0.3));\n",
              "      fill: #FFFFFF;\n",
              "    }\n",
              "  </style>\n",
              "\n",
              "      <script>\n",
              "        const buttonEl =\n",
              "          document.querySelector('#df-0725cc19-e7f1-4328-8d8f-f09a17febdec button.colab-df-convert');\n",
              "        buttonEl.style.display =\n",
              "          google.colab.kernel.accessAllowed ? 'block' : 'none';\n",
              "\n",
              "        async function convertToInteractive(key) {\n",
              "          const element = document.querySelector('#df-0725cc19-e7f1-4328-8d8f-f09a17febdec');\n",
              "          const dataTable =\n",
              "            await google.colab.kernel.invokeFunction('convertToInteractive',\n",
              "                                                     [key], {});\n",
              "          if (!dataTable) return;\n",
              "\n",
              "          const docLinkHtml = 'Like what you see? Visit the ' +\n",
              "            '<a target=\"_blank\" href=https://colab.research.google.com/notebooks/data_table.ipynb>data table notebook</a>'\n",
              "            + ' to learn more about interactive tables.';\n",
              "          element.innerHTML = '';\n",
              "          dataTable['output_type'] = 'display_data';\n",
              "          await google.colab.output.renderOutput(dataTable, element);\n",
              "          const docLink = document.createElement('div');\n",
              "          docLink.innerHTML = docLinkHtml;\n",
              "          element.appendChild(docLink);\n",
              "        }\n",
              "      </script>\n",
              "    </div>\n",
              "  </div>\n",
              "  "
            ]
          },
          "metadata": {},
          "execution_count": 77
        }
      ]
    },
    {
      "cell_type": "code",
      "source": [
        "IrisY"
      ],
      "metadata": {
        "colab": {
          "base_uri": "https://localhost:8080/",
          "height": 424
        },
        "id": "0cS-m43OTZKh",
        "outputId": "6ce6f77f-2887-4ec0-e400-b1695f9d7c85"
      },
      "execution_count": null,
      "outputs": [
        {
          "output_type": "execute_result",
          "data": {
            "text/plain": [
              "     Species\n",
              "0          0\n",
              "1          0\n",
              "2          0\n",
              "3          0\n",
              "4          0\n",
              "..       ...\n",
              "145        2\n",
              "146        2\n",
              "147        2\n",
              "148        2\n",
              "149        2\n",
              "\n",
              "[147 rows x 1 columns]"
            ],
            "text/html": [
              "\n",
              "  <div id=\"df-56c9f9d5-1620-4935-97c7-0d6d53d23e3d\">\n",
              "    <div class=\"colab-df-container\">\n",
              "      <div>\n",
              "<style scoped>\n",
              "    .dataframe tbody tr th:only-of-type {\n",
              "        vertical-align: middle;\n",
              "    }\n",
              "\n",
              "    .dataframe tbody tr th {\n",
              "        vertical-align: top;\n",
              "    }\n",
              "\n",
              "    .dataframe thead th {\n",
              "        text-align: right;\n",
              "    }\n",
              "</style>\n",
              "<table border=\"1\" class=\"dataframe\">\n",
              "  <thead>\n",
              "    <tr style=\"text-align: right;\">\n",
              "      <th></th>\n",
              "      <th>Species</th>\n",
              "    </tr>\n",
              "  </thead>\n",
              "  <tbody>\n",
              "    <tr>\n",
              "      <th>0</th>\n",
              "      <td>0</td>\n",
              "    </tr>\n",
              "    <tr>\n",
              "      <th>1</th>\n",
              "      <td>0</td>\n",
              "    </tr>\n",
              "    <tr>\n",
              "      <th>2</th>\n",
              "      <td>0</td>\n",
              "    </tr>\n",
              "    <tr>\n",
              "      <th>3</th>\n",
              "      <td>0</td>\n",
              "    </tr>\n",
              "    <tr>\n",
              "      <th>4</th>\n",
              "      <td>0</td>\n",
              "    </tr>\n",
              "    <tr>\n",
              "      <th>...</th>\n",
              "      <td>...</td>\n",
              "    </tr>\n",
              "    <tr>\n",
              "      <th>145</th>\n",
              "      <td>2</td>\n",
              "    </tr>\n",
              "    <tr>\n",
              "      <th>146</th>\n",
              "      <td>2</td>\n",
              "    </tr>\n",
              "    <tr>\n",
              "      <th>147</th>\n",
              "      <td>2</td>\n",
              "    </tr>\n",
              "    <tr>\n",
              "      <th>148</th>\n",
              "      <td>2</td>\n",
              "    </tr>\n",
              "    <tr>\n",
              "      <th>149</th>\n",
              "      <td>2</td>\n",
              "    </tr>\n",
              "  </tbody>\n",
              "</table>\n",
              "<p>147 rows × 1 columns</p>\n",
              "</div>\n",
              "      <button class=\"colab-df-convert\" onclick=\"convertToInteractive('df-56c9f9d5-1620-4935-97c7-0d6d53d23e3d')\"\n",
              "              title=\"Convert this dataframe to an interactive table.\"\n",
              "              style=\"display:none;\">\n",
              "        \n",
              "  <svg xmlns=\"http://www.w3.org/2000/svg\" height=\"24px\"viewBox=\"0 0 24 24\"\n",
              "       width=\"24px\">\n",
              "    <path d=\"M0 0h24v24H0V0z\" fill=\"none\"/>\n",
              "    <path d=\"M18.56 5.44l.94 2.06.94-2.06 2.06-.94-2.06-.94-.94-2.06-.94 2.06-2.06.94zm-11 1L8.5 8.5l.94-2.06 2.06-.94-2.06-.94L8.5 2.5l-.94 2.06-2.06.94zm10 10l.94 2.06.94-2.06 2.06-.94-2.06-.94-.94-2.06-.94 2.06-2.06.94z\"/><path d=\"M17.41 7.96l-1.37-1.37c-.4-.4-.92-.59-1.43-.59-.52 0-1.04.2-1.43.59L10.3 9.45l-7.72 7.72c-.78.78-.78 2.05 0 2.83L4 21.41c.39.39.9.59 1.41.59.51 0 1.02-.2 1.41-.59l7.78-7.78 2.81-2.81c.8-.78.8-2.07 0-2.86zM5.41 20L4 18.59l7.72-7.72 1.47 1.35L5.41 20z\"/>\n",
              "  </svg>\n",
              "      </button>\n",
              "      \n",
              "  <style>\n",
              "    .colab-df-container {\n",
              "      display:flex;\n",
              "      flex-wrap:wrap;\n",
              "      gap: 12px;\n",
              "    }\n",
              "\n",
              "    .colab-df-convert {\n",
              "      background-color: #E8F0FE;\n",
              "      border: none;\n",
              "      border-radius: 50%;\n",
              "      cursor: pointer;\n",
              "      display: none;\n",
              "      fill: #1967D2;\n",
              "      height: 32px;\n",
              "      padding: 0 0 0 0;\n",
              "      width: 32px;\n",
              "    }\n",
              "\n",
              "    .colab-df-convert:hover {\n",
              "      background-color: #E2EBFA;\n",
              "      box-shadow: 0px 1px 2px rgba(60, 64, 67, 0.3), 0px 1px 3px 1px rgba(60, 64, 67, 0.15);\n",
              "      fill: #174EA6;\n",
              "    }\n",
              "\n",
              "    [theme=dark] .colab-df-convert {\n",
              "      background-color: #3B4455;\n",
              "      fill: #D2E3FC;\n",
              "    }\n",
              "\n",
              "    [theme=dark] .colab-df-convert:hover {\n",
              "      background-color: #434B5C;\n",
              "      box-shadow: 0px 1px 3px 1px rgba(0, 0, 0, 0.15);\n",
              "      filter: drop-shadow(0px 1px 2px rgba(0, 0, 0, 0.3));\n",
              "      fill: #FFFFFF;\n",
              "    }\n",
              "  </style>\n",
              "\n",
              "      <script>\n",
              "        const buttonEl =\n",
              "          document.querySelector('#df-56c9f9d5-1620-4935-97c7-0d6d53d23e3d button.colab-df-convert');\n",
              "        buttonEl.style.display =\n",
              "          google.colab.kernel.accessAllowed ? 'block' : 'none';\n",
              "\n",
              "        async function convertToInteractive(key) {\n",
              "          const element = document.querySelector('#df-56c9f9d5-1620-4935-97c7-0d6d53d23e3d');\n",
              "          const dataTable =\n",
              "            await google.colab.kernel.invokeFunction('convertToInteractive',\n",
              "                                                     [key], {});\n",
              "          if (!dataTable) return;\n",
              "\n",
              "          const docLinkHtml = 'Like what you see? Visit the ' +\n",
              "            '<a target=\"_blank\" href=https://colab.research.google.com/notebooks/data_table.ipynb>data table notebook</a>'\n",
              "            + ' to learn more about interactive tables.';\n",
              "          element.innerHTML = '';\n",
              "          dataTable['output_type'] = 'display_data';\n",
              "          await google.colab.output.renderOutput(dataTable, element);\n",
              "          const docLink = document.createElement('div');\n",
              "          docLink.innerHTML = docLinkHtml;\n",
              "          element.appendChild(docLink);\n",
              "        }\n",
              "      </script>\n",
              "    </div>\n",
              "  </div>\n",
              "  "
            ]
          },
          "metadata": {},
          "execution_count": 78
        }
      ]
    },
    {
      "cell_type": "markdown",
      "source": [
        "#Machine learning"
      ],
      "metadata": {
        "id": "O-5WsMSsLKeB"
      }
    },
    {
      "cell_type": "markdown",
      "source": [
        "Normalizaremos los datos"
      ],
      "metadata": {
        "id": "XGzIfW6-LlaP"
      }
    },
    {
      "cell_type": "code",
      "source": [
        "from sklearn.preprocessing import StandardScaler"
      ],
      "metadata": {
        "id": "8jWXwTnFLNnp"
      },
      "execution_count": null,
      "outputs": []
    },
    {
      "cell_type": "code",
      "source": [
        "scaler=StandardScaler()\n",
        "scaler.fit(IrisX)\n",
        "print(scaler.mean_)"
      ],
      "metadata": {
        "colab": {
          "base_uri": "https://localhost:8080/"
        },
        "id": "2R4fpSYDLo5S",
        "outputId": "5b008490-006a-4fa1-dd54-30746ca2e3b4"
      },
      "execution_count": null,
      "outputs": [
        {
          "output_type": "stream",
          "name": "stdout",
          "text": [
            "[3.11564626 1.44897959 4.2585034  4.58503401]\n"
          ]
        }
      ]
    },
    {
      "cell_type": "code",
      "source": [
        "IrisX=scaler.fit_transform(IrisX)\n",
        "IrisX"
      ],
      "metadata": {
        "colab": {
          "base_uri": "https://localhost:8080/"
        },
        "id": "KrQ4F3a5LtcF",
        "outputId": "6ca467da-82f7-415e-d4c8-efc15efb40e3"
      },
      "execution_count": null,
      "outputs": [
        {
          "output_type": "execute_result",
          "data": {
            "text/plain": [
              "array([[-0.65765411,  0.59430436, -1.35210545, -1.33203662],\n",
              "       [-1.24713675, -0.484248  , -1.35210545, -1.33203662],\n",
              "       [-1.24713675,  0.59430436, -1.35210545, -1.33203662],\n",
              "       [-1.24713675,  0.59430436, -1.35210545, -1.33203662],\n",
              "       [-1.24713675,  1.67285672, -1.35210545, -1.33203662],\n",
              "       [-0.65765411,  1.67285672, -1.03459826, -1.04151825],\n",
              "       [-1.24713675,  0.59430436, -1.35210545, -1.04151825],\n",
              "       [-1.24713675,  0.59430436, -1.35210545, -1.33203662],\n",
              "       [-1.8366194 , -0.484248  , -1.35210545, -1.33203662],\n",
              "       [-1.24713675,  0.59430436, -1.35210545, -1.33203662],\n",
              "       [-0.65765411,  1.67285672, -1.35210545, -1.33203662],\n",
              "       [-1.24713675,  0.59430436, -1.03459826, -1.33203662],\n",
              "       [-1.24713675, -0.484248  , -1.35210545, -1.33203662],\n",
              "       [-1.8366194 , -0.484248  , -1.35210545, -1.33203662],\n",
              "       [-0.06817146,  1.67285672, -1.35210545, -1.33203662],\n",
              "       [-0.06817146,  2.75140908, -1.35210545, -1.04151825],\n",
              "       [-0.65765411,  1.67285672, -1.35210545, -1.04151825],\n",
              "       [-0.65765411,  0.59430436, -1.35210545, -1.04151825],\n",
              "       [-0.06817146,  1.67285672, -1.03459826, -1.04151825],\n",
              "       [-0.65765411,  1.67285672, -1.35210545, -1.04151825],\n",
              "       [-0.65765411,  0.59430436, -1.03459826, -1.33203662],\n",
              "       [-0.65765411,  1.67285672, -1.35210545, -1.04151825],\n",
              "       [-1.24713675,  1.67285672, -1.66961264, -1.33203662],\n",
              "       [-0.65765411,  0.59430436, -1.03459826, -0.75099988],\n",
              "       [-1.24713675,  0.59430436, -1.03459826, -1.33203662],\n",
              "       [-1.24713675, -0.484248  , -1.03459826, -1.33203662],\n",
              "       [-1.24713675,  0.59430436, -1.03459826, -1.04151825],\n",
              "       [-0.65765411,  0.59430436, -1.35210545, -1.33203662],\n",
              "       [-0.65765411,  0.59430436, -1.35210545, -1.33203662],\n",
              "       [-1.24713675,  0.59430436, -1.03459826, -1.33203662],\n",
              "       [-1.24713675,  0.59430436, -1.03459826, -1.33203662],\n",
              "       [-0.65765411,  0.59430436, -1.35210545, -1.04151825],\n",
              "       [-0.65765411,  2.75140908, -1.35210545, -1.33203662],\n",
              "       [-0.65765411,  2.75140908, -1.35210545, -1.33203662],\n",
              "       [-1.24713675,  0.59430436, -1.35210545, -1.33203662],\n",
              "       [-0.65765411,  0.59430436, -1.35210545, -1.33203662],\n",
              "       [-1.8366194 , -0.484248  , -1.35210545, -1.33203662],\n",
              "       [-0.65765411,  0.59430436, -1.35210545, -1.33203662],\n",
              "       [-1.24713675,  0.59430436, -1.35210545, -1.04151825],\n",
              "       [-1.8366194 , -1.56280036, -1.35210545, -1.04151825],\n",
              "       [-1.8366194 ,  0.59430436, -1.35210545, -1.33203662],\n",
              "       [-1.24713675,  0.59430436, -1.03459826, -0.75099988],\n",
              "       [-0.65765411,  1.67285672, -1.03459826, -1.04151825],\n",
              "       [-1.24713675, -0.484248  , -1.35210545, -1.04151825],\n",
              "       [-0.65765411,  1.67285672, -1.03459826, -1.33203662],\n",
              "       [-1.24713675,  0.59430436, -1.35210545, -1.33203662],\n",
              "       [-0.65765411,  1.67285672, -1.35210545, -1.33203662],\n",
              "       [-1.24713675,  0.59430436, -1.35210545, -1.33203662],\n",
              "       [ 1.11079383,  0.59430436,  0.55293769,  0.12055524],\n",
              "       [ 0.52131118,  0.59430436,  0.2354305 ,  0.41107362],\n",
              "       [ 1.11079383,  0.59430436,  0.55293769,  0.41107362],\n",
              "       [-0.65765411, -1.56280036, -0.08207669,  0.12055524],\n",
              "       [ 0.52131118, -0.484248  ,  0.55293769,  0.41107362],\n",
              "       [-0.06817146, -0.484248  ,  0.2354305 ,  0.12055524],\n",
              "       [ 0.52131118,  0.59430436,  0.55293769,  0.41107362],\n",
              "       [-1.24713675, -1.56280036, -0.39958388, -0.4604815 ],\n",
              "       [ 1.11079383, -0.484248  ,  0.55293769,  0.12055524],\n",
              "       [-0.65765411, -0.484248  , -0.08207669,  0.12055524],\n",
              "       [-1.24713675, -2.64135272, -0.39958388, -0.4604815 ],\n",
              "       [-0.06817146, -0.484248  ,  0.2354305 ,  0.41107362],\n",
              "       [-0.06817146, -1.56280036, -0.08207669, -0.4604815 ],\n",
              "       [ 0.52131118, -0.484248  ,  0.55293769,  0.12055524],\n",
              "       [-0.06817146, -0.484248  , -0.08207669,  0.12055524],\n",
              "       [ 1.11079383,  0.59430436,  0.2354305 ,  0.12055524],\n",
              "       [-0.06817146, -0.484248  ,  0.2354305 ,  0.41107362],\n",
              "       [-0.06817146, -0.484248  ,  0.2354305 , -0.4604815 ],\n",
              "       [ 0.52131118, -1.56280036,  0.2354305 ,  0.41107362],\n",
              "       [-0.06817146, -1.56280036, -0.08207669, -0.16996313],\n",
              "       [-0.06817146,  0.59430436,  0.55293769,  0.70159199],\n",
              "       [ 0.52131118, -0.484248  , -0.08207669,  0.12055524],\n",
              "       [ 0.52131118, -1.56280036,  0.55293769,  0.41107362],\n",
              "       [ 0.52131118, -0.484248  ,  0.55293769, -0.16996313],\n",
              "       [ 0.52131118, -0.484248  ,  0.2354305 ,  0.12055524],\n",
              "       [ 1.11079383, -0.484248  ,  0.2354305 ,  0.12055524],\n",
              "       [ 1.11079383, -0.484248  ,  0.55293769,  0.12055524],\n",
              "       [ 1.11079383, -0.484248  ,  0.55293769,  0.70159199],\n",
              "       [-0.06817146, -0.484248  ,  0.2354305 ,  0.41107362],\n",
              "       [-0.06817146, -0.484248  , -0.39958388, -0.4604815 ],\n",
              "       [-0.65765411, -1.56280036, -0.08207669, -0.16996313],\n",
              "       [-0.65765411, -1.56280036, -0.08207669, -0.4604815 ],\n",
              "       [-0.06817146, -0.484248  , -0.08207669, -0.16996313],\n",
              "       [-0.06817146, -0.484248  ,  0.87044488,  0.41107362],\n",
              "       [-0.65765411, -0.484248  ,  0.2354305 ,  0.41107362],\n",
              "       [-0.06817146,  0.59430436,  0.2354305 ,  0.41107362],\n",
              "       [ 1.11079383,  0.59430436,  0.55293769,  0.41107362],\n",
              "       [ 0.52131118, -1.56280036,  0.2354305 ,  0.12055524],\n",
              "       [-0.06817146, -0.484248  ,  0.2354305 ,  0.12055524],\n",
              "       [-0.65765411, -1.56280036, -0.08207669,  0.12055524],\n",
              "       [-0.65765411, -0.484248  ,  0.2354305 , -0.16996313],\n",
              "       [ 0.52131118, -0.484248  ,  0.55293769,  0.12055524],\n",
              "       [-0.06817146, -0.484248  , -0.08207669, -0.16996313],\n",
              "       [-1.24713675, -1.56280036, -0.39958388, -0.4604815 ],\n",
              "       [-0.06817146, -0.484248  ,  0.2354305 ,  0.12055524],\n",
              "       [-0.06817146, -0.484248  ,  0.2354305 , -0.16996313],\n",
              "       [-0.06817146, -0.484248  ,  0.2354305 ,  0.12055524],\n",
              "       [ 0.52131118, -0.484248  ,  0.2354305 ,  0.12055524],\n",
              "       [-0.65765411, -1.56280036, -0.71709107, -0.16996313],\n",
              "       [-0.06817146, -0.484248  ,  0.2354305 ,  0.12055524],\n",
              "       [ 0.52131118,  0.59430436,  1.18795207,  1.86366548],\n",
              "       [-0.06817146, -0.484248  ,  0.87044488,  0.99211036],\n",
              "       [ 1.70027647, -0.484248  ,  1.18795207,  1.28262873],\n",
              "       [ 0.52131118, -0.484248  ,  1.18795207,  0.70159199],\n",
              "       [ 0.52131118, -0.484248  ,  1.18795207,  1.28262873],\n",
              "       [ 2.28975912, -0.484248  ,  1.82296645,  1.28262873],\n",
              "       [-1.24713675, -1.56280036,  0.2354305 ,  0.70159199],\n",
              "       [ 1.70027647, -0.484248  ,  1.50545926,  0.70159199],\n",
              "       [ 1.11079383, -1.56280036,  1.18795207,  0.70159199],\n",
              "       [ 1.70027647,  1.67285672,  1.50545926,  1.86366548],\n",
              "       [ 0.52131118,  0.59430436,  0.87044488,  0.99211036],\n",
              "       [ 0.52131118, -0.484248  ,  0.87044488,  0.99211036],\n",
              "       [ 1.11079383, -0.484248  ,  0.87044488,  1.28262873],\n",
              "       [-0.06817146, -1.56280036,  0.55293769,  0.99211036],\n",
              "       [-0.06817146, -0.484248  ,  0.87044488,  1.57314711],\n",
              "       [ 0.52131118,  0.59430436,  0.87044488,  1.57314711],\n",
              "       [ 0.52131118, -0.484248  ,  0.87044488,  0.70159199],\n",
              "       [ 2.28975912,  1.67285672,  1.82296645,  1.28262873],\n",
              "       [ 2.28975912, -0.484248  ,  1.82296645,  1.57314711],\n",
              "       [-0.06817146, -1.56280036,  0.55293769,  0.41107362],\n",
              "       [ 1.11079383,  0.59430436,  1.18795207,  1.57314711],\n",
              "       [-0.06817146, -0.484248  ,  0.55293769,  0.99211036],\n",
              "       [ 2.28975912, -0.484248  ,  1.82296645,  0.99211036],\n",
              "       [ 0.52131118, -0.484248  ,  0.55293769,  0.70159199],\n",
              "       [ 1.11079383,  0.59430436,  1.18795207,  1.28262873],\n",
              "       [ 1.70027647,  0.59430436,  1.18795207,  0.70159199],\n",
              "       [ 0.52131118, -0.484248  ,  0.55293769,  0.70159199],\n",
              "       [ 0.52131118, -0.484248  ,  0.55293769,  0.70159199],\n",
              "       [ 0.52131118, -0.484248  ,  1.18795207,  1.28262873],\n",
              "       [ 1.70027647, -0.484248  ,  1.18795207,  0.41107362],\n",
              "       [ 1.70027647, -0.484248  ,  1.50545926,  0.99211036],\n",
              "       [ 2.28975912,  1.67285672,  1.50545926,  0.99211036],\n",
              "       [ 0.52131118, -0.484248  ,  1.18795207,  1.28262873],\n",
              "       [ 0.52131118, -0.484248  ,  0.87044488,  0.41107362],\n",
              "       [ 0.52131118, -0.484248  ,  1.18795207,  0.12055524],\n",
              "       [ 2.28975912, -0.484248  ,  1.50545926,  1.57314711],\n",
              "       [ 0.52131118,  0.59430436,  1.18795207,  1.57314711],\n",
              "       [ 0.52131118,  0.59430436,  0.87044488,  0.70159199],\n",
              "       [-0.06817146, -0.484248  ,  0.55293769,  0.70159199],\n",
              "       [ 1.11079383,  0.59430436,  0.87044488,  1.28262873],\n",
              "       [ 1.11079383,  0.59430436,  1.18795207,  1.57314711],\n",
              "       [ 1.11079383,  0.59430436,  0.87044488,  1.57314711],\n",
              "       [ 1.11079383,  0.59430436,  1.18795207,  1.57314711],\n",
              "       [ 1.11079383,  0.59430436,  1.18795207,  1.86366548],\n",
              "       [ 1.11079383, -0.484248  ,  0.87044488,  1.57314711],\n",
              "       [ 0.52131118, -1.56280036,  0.55293769,  0.99211036],\n",
              "       [ 0.52131118, -0.484248  ,  0.87044488,  0.99211036],\n",
              "       [ 0.52131118,  0.59430436,  0.87044488,  1.57314711],\n",
              "       [-0.06817146, -0.484248  ,  0.87044488,  0.70159199]])"
            ]
          },
          "metadata": {},
          "execution_count": 81
        }
      ]
    },
    {
      "cell_type": "code",
      "source": [
        "from sklearn.decomposition import PCA"
      ],
      "metadata": {
        "id": "sscnIisbL7u1"
      },
      "execution_count": null,
      "outputs": []
    },
    {
      "cell_type": "code",
      "source": [
        "pca = PCA(n_components=4)\n",
        "pca.fit(IrisX)\n",
        "print(pca.explained_variance_ratio_)  "
      ],
      "metadata": {
        "colab": {
          "base_uri": "https://localhost:8080/"
        },
        "id": "gl0JViDVL92o",
        "outputId": "80793117-e008-4fff-bc4c-0752daa56abb"
      },
      "execution_count": null,
      "outputs": [
        {
          "output_type": "stream",
          "name": "stdout",
          "text": [
            "[0.70728982 0.24126569 0.04223237 0.00921212]\n"
          ]
        }
      ]
    },
    {
      "cell_type": "code",
      "source": [
        "print(IrisX,IrisY)"
      ],
      "metadata": {
        "colab": {
          "base_uri": "https://localhost:8080/"
        },
        "id": "wgSKyACZMPSP",
        "outputId": "edb45cac-ff25-4842-dc29-71a22fdf75ab"
      },
      "execution_count": null,
      "outputs": [
        {
          "output_type": "stream",
          "name": "stdout",
          "text": [
            "[[-0.65765411  0.59430436 -1.35210545 -1.33203662]\n",
            " [-1.24713675 -0.484248   -1.35210545 -1.33203662]\n",
            " [-1.24713675  0.59430436 -1.35210545 -1.33203662]\n",
            " [-1.24713675  0.59430436 -1.35210545 -1.33203662]\n",
            " [-1.24713675  1.67285672 -1.35210545 -1.33203662]\n",
            " [-0.65765411  1.67285672 -1.03459826 -1.04151825]\n",
            " [-1.24713675  0.59430436 -1.35210545 -1.04151825]\n",
            " [-1.24713675  0.59430436 -1.35210545 -1.33203662]\n",
            " [-1.8366194  -0.484248   -1.35210545 -1.33203662]\n",
            " [-1.24713675  0.59430436 -1.35210545 -1.33203662]\n",
            " [-0.65765411  1.67285672 -1.35210545 -1.33203662]\n",
            " [-1.24713675  0.59430436 -1.03459826 -1.33203662]\n",
            " [-1.24713675 -0.484248   -1.35210545 -1.33203662]\n",
            " [-1.8366194  -0.484248   -1.35210545 -1.33203662]\n",
            " [-0.06817146  1.67285672 -1.35210545 -1.33203662]\n",
            " [-0.06817146  2.75140908 -1.35210545 -1.04151825]\n",
            " [-0.65765411  1.67285672 -1.35210545 -1.04151825]\n",
            " [-0.65765411  0.59430436 -1.35210545 -1.04151825]\n",
            " [-0.06817146  1.67285672 -1.03459826 -1.04151825]\n",
            " [-0.65765411  1.67285672 -1.35210545 -1.04151825]\n",
            " [-0.65765411  0.59430436 -1.03459826 -1.33203662]\n",
            " [-0.65765411  1.67285672 -1.35210545 -1.04151825]\n",
            " [-1.24713675  1.67285672 -1.66961264 -1.33203662]\n",
            " [-0.65765411  0.59430436 -1.03459826 -0.75099988]\n",
            " [-1.24713675  0.59430436 -1.03459826 -1.33203662]\n",
            " [-1.24713675 -0.484248   -1.03459826 -1.33203662]\n",
            " [-1.24713675  0.59430436 -1.03459826 -1.04151825]\n",
            " [-0.65765411  0.59430436 -1.35210545 -1.33203662]\n",
            " [-0.65765411  0.59430436 -1.35210545 -1.33203662]\n",
            " [-1.24713675  0.59430436 -1.03459826 -1.33203662]\n",
            " [-1.24713675  0.59430436 -1.03459826 -1.33203662]\n",
            " [-0.65765411  0.59430436 -1.35210545 -1.04151825]\n",
            " [-0.65765411  2.75140908 -1.35210545 -1.33203662]\n",
            " [-0.65765411  2.75140908 -1.35210545 -1.33203662]\n",
            " [-1.24713675  0.59430436 -1.35210545 -1.33203662]\n",
            " [-0.65765411  0.59430436 -1.35210545 -1.33203662]\n",
            " [-1.8366194  -0.484248   -1.35210545 -1.33203662]\n",
            " [-0.65765411  0.59430436 -1.35210545 -1.33203662]\n",
            " [-1.24713675  0.59430436 -1.35210545 -1.04151825]\n",
            " [-1.8366194  -1.56280036 -1.35210545 -1.04151825]\n",
            " [-1.8366194   0.59430436 -1.35210545 -1.33203662]\n",
            " [-1.24713675  0.59430436 -1.03459826 -0.75099988]\n",
            " [-0.65765411  1.67285672 -1.03459826 -1.04151825]\n",
            " [-1.24713675 -0.484248   -1.35210545 -1.04151825]\n",
            " [-0.65765411  1.67285672 -1.03459826 -1.33203662]\n",
            " [-1.24713675  0.59430436 -1.35210545 -1.33203662]\n",
            " [-0.65765411  1.67285672 -1.35210545 -1.33203662]\n",
            " [-1.24713675  0.59430436 -1.35210545 -1.33203662]\n",
            " [ 1.11079383  0.59430436  0.55293769  0.12055524]\n",
            " [ 0.52131118  0.59430436  0.2354305   0.41107362]\n",
            " [ 1.11079383  0.59430436  0.55293769  0.41107362]\n",
            " [-0.65765411 -1.56280036 -0.08207669  0.12055524]\n",
            " [ 0.52131118 -0.484248    0.55293769  0.41107362]\n",
            " [-0.06817146 -0.484248    0.2354305   0.12055524]\n",
            " [ 0.52131118  0.59430436  0.55293769  0.41107362]\n",
            " [-1.24713675 -1.56280036 -0.39958388 -0.4604815 ]\n",
            " [ 1.11079383 -0.484248    0.55293769  0.12055524]\n",
            " [-0.65765411 -0.484248   -0.08207669  0.12055524]\n",
            " [-1.24713675 -2.64135272 -0.39958388 -0.4604815 ]\n",
            " [-0.06817146 -0.484248    0.2354305   0.41107362]\n",
            " [-0.06817146 -1.56280036 -0.08207669 -0.4604815 ]\n",
            " [ 0.52131118 -0.484248    0.55293769  0.12055524]\n",
            " [-0.06817146 -0.484248   -0.08207669  0.12055524]\n",
            " [ 1.11079383  0.59430436  0.2354305   0.12055524]\n",
            " [-0.06817146 -0.484248    0.2354305   0.41107362]\n",
            " [-0.06817146 -0.484248    0.2354305  -0.4604815 ]\n",
            " [ 0.52131118 -1.56280036  0.2354305   0.41107362]\n",
            " [-0.06817146 -1.56280036 -0.08207669 -0.16996313]\n",
            " [-0.06817146  0.59430436  0.55293769  0.70159199]\n",
            " [ 0.52131118 -0.484248   -0.08207669  0.12055524]\n",
            " [ 0.52131118 -1.56280036  0.55293769  0.41107362]\n",
            " [ 0.52131118 -0.484248    0.55293769 -0.16996313]\n",
            " [ 0.52131118 -0.484248    0.2354305   0.12055524]\n",
            " [ 1.11079383 -0.484248    0.2354305   0.12055524]\n",
            " [ 1.11079383 -0.484248    0.55293769  0.12055524]\n",
            " [ 1.11079383 -0.484248    0.55293769  0.70159199]\n",
            " [-0.06817146 -0.484248    0.2354305   0.41107362]\n",
            " [-0.06817146 -0.484248   -0.39958388 -0.4604815 ]\n",
            " [-0.65765411 -1.56280036 -0.08207669 -0.16996313]\n",
            " [-0.65765411 -1.56280036 -0.08207669 -0.4604815 ]\n",
            " [-0.06817146 -0.484248   -0.08207669 -0.16996313]\n",
            " [-0.06817146 -0.484248    0.87044488  0.41107362]\n",
            " [-0.65765411 -0.484248    0.2354305   0.41107362]\n",
            " [-0.06817146  0.59430436  0.2354305   0.41107362]\n",
            " [ 1.11079383  0.59430436  0.55293769  0.41107362]\n",
            " [ 0.52131118 -1.56280036  0.2354305   0.12055524]\n",
            " [-0.06817146 -0.484248    0.2354305   0.12055524]\n",
            " [-0.65765411 -1.56280036 -0.08207669  0.12055524]\n",
            " [-0.65765411 -0.484248    0.2354305  -0.16996313]\n",
            " [ 0.52131118 -0.484248    0.55293769  0.12055524]\n",
            " [-0.06817146 -0.484248   -0.08207669 -0.16996313]\n",
            " [-1.24713675 -1.56280036 -0.39958388 -0.4604815 ]\n",
            " [-0.06817146 -0.484248    0.2354305   0.12055524]\n",
            " [-0.06817146 -0.484248    0.2354305  -0.16996313]\n",
            " [-0.06817146 -0.484248    0.2354305   0.12055524]\n",
            " [ 0.52131118 -0.484248    0.2354305   0.12055524]\n",
            " [-0.65765411 -1.56280036 -0.71709107 -0.16996313]\n",
            " [-0.06817146 -0.484248    0.2354305   0.12055524]\n",
            " [ 0.52131118  0.59430436  1.18795207  1.86366548]\n",
            " [-0.06817146 -0.484248    0.87044488  0.99211036]\n",
            " [ 1.70027647 -0.484248    1.18795207  1.28262873]\n",
            " [ 0.52131118 -0.484248    1.18795207  0.70159199]\n",
            " [ 0.52131118 -0.484248    1.18795207  1.28262873]\n",
            " [ 2.28975912 -0.484248    1.82296645  1.28262873]\n",
            " [-1.24713675 -1.56280036  0.2354305   0.70159199]\n",
            " [ 1.70027647 -0.484248    1.50545926  0.70159199]\n",
            " [ 1.11079383 -1.56280036  1.18795207  0.70159199]\n",
            " [ 1.70027647  1.67285672  1.50545926  1.86366548]\n",
            " [ 0.52131118  0.59430436  0.87044488  0.99211036]\n",
            " [ 0.52131118 -0.484248    0.87044488  0.99211036]\n",
            " [ 1.11079383 -0.484248    0.87044488  1.28262873]\n",
            " [-0.06817146 -1.56280036  0.55293769  0.99211036]\n",
            " [-0.06817146 -0.484248    0.87044488  1.57314711]\n",
            " [ 0.52131118  0.59430436  0.87044488  1.57314711]\n",
            " [ 0.52131118 -0.484248    0.87044488  0.70159199]\n",
            " [ 2.28975912  1.67285672  1.82296645  1.28262873]\n",
            " [ 2.28975912 -0.484248    1.82296645  1.57314711]\n",
            " [-0.06817146 -1.56280036  0.55293769  0.41107362]\n",
            " [ 1.11079383  0.59430436  1.18795207  1.57314711]\n",
            " [-0.06817146 -0.484248    0.55293769  0.99211036]\n",
            " [ 2.28975912 -0.484248    1.82296645  0.99211036]\n",
            " [ 0.52131118 -0.484248    0.55293769  0.70159199]\n",
            " [ 1.11079383  0.59430436  1.18795207  1.28262873]\n",
            " [ 1.70027647  0.59430436  1.18795207  0.70159199]\n",
            " [ 0.52131118 -0.484248    0.55293769  0.70159199]\n",
            " [ 0.52131118 -0.484248    0.55293769  0.70159199]\n",
            " [ 0.52131118 -0.484248    1.18795207  1.28262873]\n",
            " [ 1.70027647 -0.484248    1.18795207  0.41107362]\n",
            " [ 1.70027647 -0.484248    1.50545926  0.99211036]\n",
            " [ 2.28975912  1.67285672  1.50545926  0.99211036]\n",
            " [ 0.52131118 -0.484248    1.18795207  1.28262873]\n",
            " [ 0.52131118 -0.484248    0.87044488  0.41107362]\n",
            " [ 0.52131118 -0.484248    1.18795207  0.12055524]\n",
            " [ 2.28975912 -0.484248    1.50545926  1.57314711]\n",
            " [ 0.52131118  0.59430436  1.18795207  1.57314711]\n",
            " [ 0.52131118  0.59430436  0.87044488  0.70159199]\n",
            " [-0.06817146 -0.484248    0.55293769  0.70159199]\n",
            " [ 1.11079383  0.59430436  0.87044488  1.28262873]\n",
            " [ 1.11079383  0.59430436  1.18795207  1.57314711]\n",
            " [ 1.11079383  0.59430436  0.87044488  1.57314711]\n",
            " [ 1.11079383  0.59430436  1.18795207  1.57314711]\n",
            " [ 1.11079383  0.59430436  1.18795207  1.86366548]\n",
            " [ 1.11079383 -0.484248    0.87044488  1.57314711]\n",
            " [ 0.52131118 -1.56280036  0.55293769  0.99211036]\n",
            " [ 0.52131118 -0.484248    0.87044488  0.99211036]\n",
            " [ 0.52131118  0.59430436  0.87044488  1.57314711]\n",
            " [-0.06817146 -0.484248    0.87044488  0.70159199]]      Species\n",
            "0          0\n",
            "1          0\n",
            "2          0\n",
            "3          0\n",
            "4          0\n",
            "..       ...\n",
            "145        2\n",
            "146        2\n",
            "147        2\n",
            "148        2\n",
            "149        2\n",
            "\n",
            "[147 rows x 1 columns]\n"
          ]
        }
      ]
    },
    {
      "cell_type": "markdown",
      "source": [
        "Dividiremos los datos en 80% de entrenamientos y 20% pruebas"
      ],
      "metadata": {
        "id": "0DGYTdZjMi0z"
      }
    },
    {
      "cell_type": "markdown",
      "source": [
        "Entrenaremos la neurona"
      ],
      "metadata": {
        "id": "d4RSVWOnMkGB"
      }
    },
    {
      "cell_type": "code",
      "source": [
        "# Entrenar la RN\n",
        "import numpy as np\n",
        "from sklearn.model_selection import train_test_split"
      ],
      "metadata": {
        "id": "HOquZdkfMnMI"
      },
      "execution_count": null,
      "outputs": []
    },
    {
      "cell_type": "code",
      "source": [
        "IrisY=IrisY.to_numpy()\n",
        "x_train, x_test, y_train, y_test= train_test_split(IrisX, IrisY, test_size=0.3)"
      ],
      "metadata": {
        "id": "g0HAM8WHMuHH"
      },
      "execution_count": null,
      "outputs": []
    },
    {
      "cell_type": "code",
      "source": [
        "print(x_train[0:5], x_test[0:5], y_train[0:5], y_test[0:5])"
      ],
      "metadata": {
        "colab": {
          "base_uri": "https://localhost:8080/"
        },
        "id": "h7z3FWxQNaTH",
        "outputId": "188163d2-7eb9-4213-8883-03e7df10f3c1"
      },
      "execution_count": null,
      "outputs": [
        {
          "output_type": "stream",
          "name": "stdout",
          "text": [
            "[[-0.06817146 -0.484248    0.2354305   0.12055524]\n",
            " [ 2.28975912  1.67285672  1.82296645  1.28262873]\n",
            " [ 0.52131118 -0.484248    0.87044488  0.41107362]\n",
            " [-0.65765411  0.59430436 -1.35210545 -1.33203662]\n",
            " [-0.65765411  1.67285672 -1.35210545 -1.04151825]] [[ 0.52131118 -0.484248    0.2354305   0.12055524]\n",
            " [-1.24713675  0.59430436 -1.35210545 -1.04151825]\n",
            " [ 0.52131118 -0.484248    0.2354305   0.12055524]\n",
            " [-0.06817146 -0.484248    0.2354305   0.41107362]\n",
            " [-0.65765411 -1.56280036 -0.08207669 -0.16996313]] [[1]\n",
            " [2]\n",
            " [2]\n",
            " [0]\n",
            " [0]] [[1]\n",
            " [0]\n",
            " [1]\n",
            " [1]\n",
            " [1]]\n"
          ]
        }
      ]
    },
    {
      "cell_type": "markdown",
      "source": [
        " Creamos la neurona"
      ],
      "metadata": {
        "id": "PUqIURKmNiQ-"
      }
    },
    {
      "cell_type": "code",
      "source": [
        "#import numpy as np\n",
        "\n",
        "def sigmoide(x):\n",
        "  return (1.0/(1.0+np.exp(-x)))\n",
        "def derivada(x):\n",
        "  return sigmoide(x)*(1.0-sigmoide(x))\n",
        "\n",
        "def neurona(entrada, pesosCO1, tendenciasC01, pesosCO2, tendenciasCO2, pesosCO3, tendenciasCO3,, pesosCS, tendenciasCS):\n",
        "  entradaNetaC1=np.dot(pesosCO1, np.transpose(entrada))-tendenciasC01\n",
        "  salidaC1=sigmoide(entradaNetaC1)\n",
        "\n",
        "  entradaNetaC2 = np.dot(pesosCO2,salidaC1)-tendenciasCO2\n",
        "  salidaC2=sigmoide(entradaNetaC2)\n",
        "\n",
        "  entradaNetaC3 = np.dot(pesosCO3,salidaC2)-tendenciasCO3\n",
        "  salidaC3=sigmoide(entradaNetaC3)\n",
        "\n",
        "  entradaNetaCS = np.dot(pesosCS,salidaC3)-tendenciasCS\n",
        "  salida=sigmoide(entradaNetaCS)\n",
        "\n",
        "  return salida, entradaNetaCS, entradaNetaC3, entradaNetaC2, entradaNetaC1\n",
        "# el algoritmo recibe\n",
        "# FacorAprendizaje: que tanto se permite el cambio en los pesos w(t) = e*error'f'(neta)*xj\n",
        "# error: un valor de error que permitimos\n",
        "# entradas: el conjunto de entradas que se van a trabajar \n",
        "# salidas: salidas esperadas\n",
        "# max-it: el numero de iteraciones que prmitimos\n",
        "# alpha: el valor de incremento del factor de aprendzaje\n",
        "# rho: El valor de decremento del factor de aprendizaje\n",
        "# neuronasC1: numero de neuronas en la capa oculta 1\n",
        "# neuronasC2: numero de neuronas en la capa oculta 2\n",
        "# neuronasC3: numero de neuronas en la capa oculta 3\n",
        "def backpropagation(entradas, salidas,factorAprendizaje, error, max_it, alpha, rho, neuronasC1, neuronasC2, neuronasC3):\n",
        "\n",
        "  # tiene 3 neuronas y como tres entradas tenemos una matriz de 3x3\n",
        "  pesosCO1=2*np.random.rand(neuronasC1,entradas.shape[1])-1\n",
        "  tendenciasC1=2*np.random.rand(neuronasC1)-1\n",
        "\n",
        "  # pesos capa oculta 2\n",
        "  # la capa oculta 2 tiene 2 neuronas y recive las salidas de 3 neuronas en la capa oculta 1\n",
        "  # genera una matriz de 2x3\n",
        "  pesosCO2=2*np.random.rand(neuronasC2,neuronasC1)-1\n",
        "  tendenciasC2=2*np.random.rand(neuronasC2)-1\n",
        "\n",
        "  # capa oculta 3\n",
        "  pesosCO3=2*np.random.rand(neuronasC3,neuronasC2)-1\n",
        "  tendenciasC3=2*np.random.rand(neuronasC3)-1\n",
        "\n",
        "  # Generamos los pesos de la capa de salida, 1 salida (1 neurona) y tenemos 2 entradas que vienen de la capa oculta 2\n",
        "  pesosCS = 2*np.random.rand(neuronasC3)-1\n",
        "  #pesosCS = 2*np.random.rand(salidas.shape[1],neuronasC3)-1 #mas de una salida\n",
        "  tendenciasCS=2*np.random.rand(1)-1\n",
        "  it=0\n",
        "  errorVec=[]\n",
        "  errorAnt=float('inf')\n",
        "  while(it<max_it):\n",
        "    it+=1\n",
        "    errorIt=0\n",
        "    for i in range(0, entradas.shape[0]):\n",
        "      ent=entradas[i]\n",
        "      t=salidas[i]\n",
        "      y,entradaNetaCS, entradaNetaC3, entradaNetaC2, entradaNetaC1=neurona(\n",
        "          ent, pesosCO1, tendenciasC1, pesosCO2, tendenciasC2,pesosCO3, tendenciasC3, pesosCS, tendenciasCS\n",
        "        )\n",
        "\n",
        "      errorIt+=np.power(t-y,2)/2.0\n",
        "      #np.sum(np.power(t-y,2)/2.0)\n",
        "\n",
        "    errorVec.append(errorIt)\n",
        "    for i in range(0, entradas.shape[0]):\n",
        "      ent=entradas[i]\n",
        "      t=salidas[i]\n",
        "      y, entradaNetaCS, entradaNetaC3, entradaNetaC2, entradaNetaC1 = neurona(\n",
        "          ent, pesosCO1, tendenciasC1, pesosCO2, tendenciasC2, pesosCO3, tendenciasC3, pesosCS, tendenciasCS\n",
        "      )\n",
        "\n",
        "      # calcular el error en la https://meet.google.com/poh-rbpy-vtv?authuser=0capa salida\n",
        "      errorCS=(t-y)*derivada(entradaNetaCS)\n",
        "      #error = np.sum(3rroCS)\n",
        "\n",
        "      # calcular la capa oculta 3\n",
        "      errorC3=0\n",
        "      for j in range(0,pesosCS.shape[0]):\n",
        "        #for k in range(...)\n",
        "        errorC3+=pesosCS[j]*errorCS*derivada(entradaNetaC3[j])\n",
        "\n",
        "      #calcular el error capa oculta 2\n",
        "      errorC2=0\n",
        "      for j in range(0,pesosCO3.shape[0]):\n",
        "        for k in range(0, pesosCO3.shape[1]):\n",
        "          errorC2 += pesosCO3[j][k]*errorC3*derivada(entradaNetaC2[k])\n",
        "\n",
        "      #Calcular el error de la capa oculta 1\n",
        "      errorC1=0\n",
        "      for j in range(0, pesosCO2.shape[0]):\n",
        "        for k in range(0, pesosCO2.shape[1]):\n",
        "          errorC1 += pesosCO2[j][k]*errorC2*derivada(entradaNetaC1[k])\n",
        "\n",
        "      # actualiza pesos\n",
        "      # cada salida\n",
        "      for j in range(0, pesosCS.shape[0]):\n",
        "        pesosCS[j]+=factorAprendizaje*errorCS*entradaNetaCS\n",
        "\n",
        "      #Actualizar las tendencias\n",
        "      for j in range(0,tendenciasCS.shape[0]):\n",
        "        tendenciasCS[j]+=factorAprendizaje*errorCS*(-1)\n",
        "      \n",
        "      #pesos capa oculta 3\n",
        "      for j in range(0, pesosCO3.shape[0]): #neurona de CO3\n",
        "        for k in range(0, pesosCO3.shape[1]): #Salida de la CO2\n",
        "          pesosCO3[j][k]+=factorAprendizaje*errorC3*entradaNetaC3[j]\n",
        "      # \n",
        "      # actualizar las tendencias 3\n",
        "      for j in range(0, tendenciasC3.shape[0]):\n",
        "        tendenciasC3[j]+=factorAprendizaje*errorC3*(-1)\n",
        "\n",
        "      #pesos capa oculta 2\n",
        "      for j in range(0, pesosCO2.shape[0]): #neurona de CO2\n",
        "        for k in range(0, pesosCO2.shape[1]): #Salida de la CO1\n",
        "          pesosCO2[j][k]+=factorAprendizaje*errorC2*entradaNetaC2[j]\n",
        "      # \n",
        "      # actualizar las tendencias 2\n",
        "      for j in range(0, tendenciasC2.shape[0]):\n",
        "        tendenciasC2[j]+=factorAprendizaje*errorC2*(-1)\n",
        "\n",
        "      # Pesos capa oculta 1\n",
        "      for j in range(0, pesosCO1.shape[0]):\n",
        "        for k in range(0, pesosCO1.shape[1]):\n",
        "          pesosCO1[j][k]+=factorAprendizaje*errorC1*entradaNetaC1[j]\n",
        "\n",
        "      #Actualizar las tendencias 1\n",
        "      for j in range(0,tendenciasC1.shape[0]):\n",
        "        tendenciasC1[j]+=factorAprendizaje*errorC1*(-1)\n",
        "\n",
        "    if errorIt < errorAnt:\n",
        "      factorAprendizaje*=alpha\n",
        "  else:\n",
        "    factorAprendizaje*=rho\n",
        "  errorAnt=errorIt\n",
        "  return pesosCS, pesosCO1, pesosCO2, pesosCO3, tendenciasC1, tendenciasC2, tendenciasC3, tendenciasCS, errorVec"
      ],
      "metadata": {
        "id": "-gBYsoIHNtaI"
      },
      "execution_count": null,
      "outputs": []
    },
    {
      "cell_type": "code",
      "source": [
        "# parametros\n",
        "neuronasC1=3\n",
        "neuronasC2=7 #2n+1 Regla de Kolmorogov\n",
        "neuronasC3=2\n",
        "factorAprendizaje=0.5\n",
        "alpha=1.05 # aumentar el factor de aprendizaje \n",
        "rho=0.95 #disminuir el factor de aprendizaje\n",
        "max_it=50\n",
        "error=0.5"
      ],
      "metadata": {
        "id": "_KmSVGujOHOk"
      },
      "execution_count": null,
      "outputs": []
    },
    {
      "cell_type": "code",
      "source": [
        "# x_train, x_test, y_train, y_test\n",
        "pesosCS, pesosCO1, pesosCO2, pesosCO3, tc1, tc2, tc3, tcs, errorVec=backpropagation(\n",
        "    x_train, y_train,factorAprendizaje, error, max_it, alpha, rho, neuronasC1, neuronasC2, neuronasC3)"
      ],
      "metadata": {
        "id": "KUTfHBHKOPM-"
      },
      "execution_count": null,
      "outputs": []
    },
    {
      "cell_type": "code",
      "source": [
        "import matplotlib.pyplot as plt\n",
        "plt.plot(errorVec)\n",
        "plt.title(\"Error de entrenamiento\")"
      ],
      "metadata": {
        "colab": {
          "base_uri": "https://localhost:8080/",
          "height": 299
        },
        "id": "GO9pswE6SaBY",
        "outputId": "4667f1f6-5b62-4265-dd10-e17a1ac3e81f"
      },
      "execution_count": null,
      "outputs": [
        {
          "output_type": "execute_result",
          "data": {
            "text/plain": [
              "Text(0.5, 1.0, 'Error de entrenamiento')"
            ]
          },
          "metadata": {},
          "execution_count": 91
        },
        {
          "output_type": "display_data",
          "data": {
            "text/plain": [
              "<Figure size 432x288 with 1 Axes>"
            ],
            "image/png": "[encoded data removed]"
          },
          "metadata": {
            "needs_background": "light"
          }
        }
      ]
    },
    {
      "cell_type": "markdown",
      "source": [
        "El error es menos del 35%"
      ],
      "metadata": {
        "id": "RB3hqcw5TmY-"
      }
    },
    {
      "cell_type": "code",
      "source": [
        "from sklearn.neural_network import MLPClassifier #Este modelo optimiza la función de pérdida de registro utilizando LBFGS o descenso de gradiente estocástico.\n",
        "clf=MLPClassifier(solver='lbfgs', alpha=1e-5,hidden_layer_sizes=(neuronasC1, neuronasC2),random_state=1)\n",
        "clf.fit(x_train, y_train)"
      ],
      "metadata": {
        "colab": {
          "base_uri": "https://localhost:8080/"
        },
        "id": "ZjcXE2tuSfpt",
        "outputId": "cb5cf674-2383-43e3-80f0-d571b1481f8b"
      },
      "execution_count": null,
      "outputs": [
        {
          "output_type": "stream",
          "name": "stderr",
          "text": [
            "/usr/local/lib/python3.7/dist-packages/sklearn/neural_network/_multilayer_perceptron.py:1109: DataConversionWarning: A column-vector y was passed when a 1d array was expected. Please change the shape of y to (n_samples, ), for example using ravel().\n",
            "  y = column_or_1d(y, warn=True)\n"
          ]
        },
        {
          "output_type": "execute_result",
          "data": {
            "text/plain": [
              "MLPClassifier(alpha=1e-05, hidden_layer_sizes=(3, 7), random_state=1,\n",
              "              solver='lbfgs')"
            ]
          },
          "metadata": {},
          "execution_count": 92
        }
      ]
    },
    {
      "cell_type": "code",
      "source": [
        "clf.score(x_test, y_test)"
      ],
      "metadata": {
        "colab": {
          "base_uri": "https://localhost:8080/"
        },
        "id": "MKyhteAwSjNV",
        "outputId": "bfe338dc-2898-4538-b472-a891c2f847e9"
      },
      "execution_count": null,
      "outputs": [
        {
          "output_type": "execute_result",
          "data": {
            "text/plain": [
              "0.9555555555555556"
            ]
          },
          "metadata": {},
          "execution_count": 93
        }
      ]
    }
  ]
}